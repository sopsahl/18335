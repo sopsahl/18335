{
 "cells": [
  {
   "cell_type": "markdown",
   "metadata": {},
   "source": [
    "# 18.335 Problem Set 1\n",
    "Simon Opsahl (sopsahl@mit.edu)\n",
    "\n",
    "March 5, 2025"
   ]
  },
  {
   "cell_type": "markdown",
   "metadata": {},
   "source": [
    "# Problem 0: Pset Honor Code\n",
    "\n",
    "I will not look at 18.335 pset solutions from previous semesters. I may discuss problems with my classmates or others, but I will write up my solutions on my own. "
   ]
  },
  {
   "cell_type": "markdown",
   "metadata": {},
   "source": [
    "# Problem 1: Floating point\n",
    "\n",
    "Non-zero floating point numbers $\\mathbb{F}$ can be written as\n",
    "$$ x= \\pm (\\frac{m}{\\beta ^ t})\\beta ^e$$ \n",
    "with $\\beta \\ge 2$ and $\\beta^{-1} \\le \\frac{m}{\\beta ^t} < 1$. $e$ is an unrestricted integer."
   ]
  },
  {
   "cell_type": "markdown",
   "metadata": {},
   "source": [
    "## part (a)"
   ]
  },
  {
   "cell_type": "markdown",
   "metadata": {},
   "source": [
    "In order to identify the smallest postive integer $n$ that is not represented by $\\mathbb{F}$, we must first identify that for integers $\\in [0, \\beta^t)$, we have a direct mapping of the mantissa to integer value because there are $t$ digits of precision. For the value $\\beta^t$, we can trivially represent it as a power of $\\beta$. For the case of $\\beta^t + 1$, however, we must have the assumed digit as $1$, and then $t$ additional digits to represent the $1$ offset. As this requires $t+1$ digits of precision, but our mantissa has a precision of $t$, $\\beta^t + 1$ is the smallest positive integer not in $\\mathbb{F}$. "
   ]
  },
  {
   "cell_type": "markdown",
   "metadata": {},
   "source": [
    "For fp32, $t=24$ and thus this value is $2^{24} + 1$. The result can be verified by the code below."
   ]
  },
  {
   "cell_type": "code",
   "execution_count": null,
   "metadata": {},
   "outputs": [],
   "source": [
    "beta = big(2.0)\n",
    "t = big(24)\n",
    "\n",
    "smallest_unsupported_value = Float32(beta^t + 1) \n",
    "one_below = Float32(beta^t)\n",
    "two_below = Float32(beta^t - 1)\n",
    "smallest_unsupported_value == one_below, one_below==two_below"
   ]
  },
  {
   "cell_type": "markdown",
   "metadata": {},
   "source": [
    "For fp64, $t=53$ and thus this value is $2^{53} +1$. The result can be verified by the code below."
   ]
  },
  {
   "cell_type": "code",
   "execution_count": null,
   "metadata": {},
   "outputs": [],
   "source": [
    "beta = big\"2.0\"\n",
    "t = big\"53\"\n",
    "\n",
    "smallest_unsupported_value = Float64\"beta^t + 1\"\n",
    "one_below = Float64\"beta^t\"\n",
    "two_below = Float64\"beta^t - 1\"\n",
    "smallest_unsupported_value == one_below, one_below==two_below"
   ]
  },
  {
   "cell_type": "markdown",
   "metadata": {},
   "source": [
    "## part (b)\n"
   ]
  },
  {
   "cell_type": "markdown",
   "metadata": {},
   "source": [
    "In base 2, we can prove that for two floating point numbers $a \\leq b$, the following inequality holds:\n",
    "$$a \\leq fl(\\frac{a+b}{2}) \\leq b$$\n",
    "\n",
    "This proof relies on the fact that $a \\le b \\implies fl(a) \\leq fl(b)$. We can identify the output of $\\frac{a+b}{2}$ as m, and by nature of $a\\le b$, we know that $a \\le m \\le b$. BadWe can first deconstruct the operation into two parts: the addition and the division. Because rounding is assumed to occur after each operation, we can rewrite the expression as $fl(\\frac{fl(a+b)}{2})$. Given that the error in the addition is $\\delta_{add}$ and the error in the division is $\\delta_{div}$, we are left with $fl(\\frac{fl(a+b)}{2}) = fl(\\frac{(a+b)(1+ \\delta_{add})}{2})= \\frac{(a+b)(1+ \\delta_{add})}{2} (1 + \\delta_{div})$"
   ]
  },
  {
   "cell_type": "code",
   "execution_count": null,
   "metadata": {},
   "outputs": [],
   "source": [
    "# Add DecFP\n",
    "using Pkg\n",
    "Pkg.add(\"DecFP\")\n",
    "using DecFP"
   ]
  },
  {
   "cell_type": "code",
   "execution_count": null,
   "metadata": {},
   "outputs": [],
   "source": [
    "a = Dec32()\n",
    "b = Dec32()"
   ]
  },
  {
   "cell_type": "code",
   "execution_count": null,
   "metadata": {},
   "outputs": [],
   "source": [
    "(a+b)/2 >= a"
   ]
  },
  {
   "cell_type": "markdown",
   "metadata": {},
   "source": [
    "# Problem 3: Matrix norm"
   ]
  },
  {
   "cell_type": "markdown",
   "metadata": {},
   "source": [
    "## part (a)\n",
    "\n",
    "We aim to prove that $\\|A\\|_\\infty = \\underset{1\\leq i\\leq m}{\\max} \\|a_i^\\ast\\|_1$. In order to do so, we can use the property of subordinate norms described in lecture that given $x \\in \\mathbb{C}$ and $\\sum_{j=1}^n |x_j| \\le 1$, we have $\\|A\\|_\\beta = \\max\\limits_{\\| x \\|_\\beta = 1}\\|Ax\\|_\\beta$. In this problem, $\\beta = \\infty$, and thus we find $\\|A\\|_\\infty = \\max\\limits_{\\| x \\|_\\infty = 1}\\|Ax\\|_\\infty = \\max\\limits_{\\| x \\|_\\infty = 1} \\| \\sum_{j=1}^n x_ja_j\\| _{\\infty} $. We know that $\\| x \\|_\\infty = \\max\\limits_{1\\le j\\le n} |x_j|$, and given the constraint that $\\sum_{j=1}^n |x_j| = 1$, we can assume that the $x$ that maximizes our $\\infty$-norm is the one where $|x_{j'}| = 1, j' = \\argmax\\limits_{1\\le j\\le n} |x_{j}|$. As a result, we can rewrite our norm as $\\|A\\|_\\infty = \\max\\limits_{\\| x \\|_\\infty = 1} \\| \\sum_{j=1}^n \\mathbb{I}({j == j'})a_j\\| _{\\infty}$\n",
    "\n",
    "You can check your result in Julia — it is a good habit to try out matrix properties on random matrices, both to check for mistakes and to get used to matrix calculations."
   ]
  },
  {
   "cell_type": "markdown",
   "metadata": {},
   "source": [
    "We aim to prove that $\\|A\\|_\\infty = \\underset{1\\leq i\\leq m}{\\max} \\|a_i^\\ast\\|_1$. In order to do so, we can use the property of subordinate norms described in lecture that given $x \\in \\mathbb{C}$ and $\\sum_{j=1}^n |x_j| \\le 1$, we have $\\|A\\|_\\beta = \\max\\limits_{\\| x \\|_\\beta = 1}\\|Ax\\|_\\beta$. In this problem, $\\beta = \\infty$, and thus we find $\\|A\\|_\\infty = \\max\\limits_{\\| x \\|_\\infty = 1}\\|Ax\\|_\\infty = \\max\\limits_{\\| x \\|_\\infty = 1} \\| \\sum_{j=1}^n x_ja_j\\| _{\\infty} $. We know that $\\| x \\|_\\infty = \\max\\limits_{1\\le j\\le n} |x_j|$, and given the constraint that $\\sum_{j=1}^n |x_j| = 1$, we can assume that the $x$ that maximizes our $\\infty$-norm is the one where $|x_{j'}| = 1, j' = \\argmax\\limits_{1\\le j\\le n} |x_{j}|$. As a result, we can rewrite our norm as $\\|A\\|_\\infty = \\max\\limits_{\\| x \\|_\\infty = 1} \\| \\sum_{j=1}^n \\mathbb{I}({j == j'})a_j\\| _{\\infty}$"
   ]
  },
  {
   "cell_type": "code",
   "execution_count": null,
   "metadata": {},
   "outputs": [],
   "source": [
    "using LinearAlgebra"
   ]
  },
  {
   "cell_type": "code",
   "execution_count": null,
   "metadata": {},
   "outputs": [],
   "source": [
    "A = "
   ]
  },
  {
   "cell_type": "code",
   "execution_count": null,
   "metadata": {},
   "outputs": [],
   "source": [
    "opnorm(A, Inf)"
   ]
  },
  {
   "cell_type": "markdown",
   "metadata": {},
   "source": [
    "# Problem 4: SVD"
   ]
  },
  {
   "cell_type": "markdown",
   "metadata": {},
   "source": [
    "## part (a)"
   ]
  },
  {
   "cell_type": "code",
   "execution_count": null,
   "metadata": {},
   "outputs": [],
   "source": [
    "C = "
   ]
  },
  {
   "cell_type": "code",
   "execution_count": null,
   "metadata": {},
   "outputs": [],
   "source": [
    "S = svd(C)\n",
    "S.S"
   ]
  },
  {
   "cell_type": "markdown",
   "metadata": {},
   "source": [
    "## part (b)"
   ]
  },
  {
   "cell_type": "code",
   "execution_count": null,
   "metadata": {},
   "outputs": [],
   "source": [
    "function srank(A)\n",
    "    A_F = \n",
    "    A_2 = \n",
    "    return \n",
    "end"
   ]
  },
  {
   "cell_type": "code",
   "execution_count": null,
   "metadata": {},
   "outputs": [],
   "source": [
    "srank(A) <= rank(A) & "
   ]
  }
 ],
 "metadata": {
  "@webio": {
   "lastCommId": null,
   "lastKernelId": null
  },
  "kernelspec": {
   "display_name": "Julia 1.11.3",
   "language": "julia",
   "name": "julia-1.11"
  },
  "language_info": {
   "file_extension": ".jl",
   "mimetype": "application/julia",
   "name": "julia",
   "version": "1.11.3"
  }
 },
 "nbformat": 4,
 "nbformat_minor": 1
}
