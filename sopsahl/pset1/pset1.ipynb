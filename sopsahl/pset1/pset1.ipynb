{
 "cells": [
  {
   "cell_type": "markdown",
   "metadata": {},
   "source": [
    "# 18.335 Problem Set 1\n",
    "Simon Opsahl (sopsahl@mit.edu)\n",
    "\n",
    "March 5, 2025"
   ]
  },
  {
   "cell_type": "markdown",
   "metadata": {},
   "source": [
    "# Problem 0: Pset Honor Code\n",
    "\n",
    "I will not look at 18.335 pset solutions from previous semesters. I may discuss problems with my classmates or others, but I will write up my solutions on my own. "
   ]
  },
  {
   "cell_type": "markdown",
   "metadata": {},
   "source": [
    "# Problem 1: Floating point\n",
    "\n",
    "Non-zero floating point numbers $\\mathbb{F}$ can be written as\n",
    "$$ x= \\pm (\\frac{m}{\\beta ^ t})\\beta ^e$$ \n",
    "with $\\beta \\ge 2$ and $\\beta^{-1} \\le \\frac{m}{\\beta ^t} < 1$. $e$ is an unrestricted integer."
   ]
  },
  {
   "cell_type": "markdown",
   "metadata": {},
   "source": [
    "## part (a)"
   ]
  },
  {
   "cell_type": "markdown",
   "metadata": {},
   "source": [
    "In order to identify the smallest postive integer $n$ that is not represented by $\\mathbb{F}$, we must first identify that for integers $\\in [0, \\beta^t)$, we have a direct mapping of the mantissa to integer value because there are $t$ digits of precision. For the value $\\beta^t$, we can trivially represent it as a power of $\\beta$. For the case of $\\beta^t + 1$, however, we must have the assumed digit as $1$, and then $t$ additional digits to represent the $1$ offset. As this requires $t+1$ digits of precision, but our mantissa has a precision of $t$, $\\beta^t + 1$ is the smallest positive integer not in $\\mathbb{F}$. "
   ]
  },
  {
   "cell_type": "markdown",
   "metadata": {},
   "source": [
    "For fp32, $t=24$ and thus this value is $2^{24} + 1$. The result can be verified by the code below."
   ]
  },
  {
   "cell_type": "code",
   "execution_count": 1,
   "metadata": {},
   "outputs": [
    {
     "data": {
      "text/plain": [
       "(true, false)"
      ]
     },
     "metadata": {},
     "output_type": "display_data"
    }
   ],
   "source": [
    "beta = big(2.0)\n",
    "t = big(24)\n",
    "\n",
    "smallest_unsupported_value = Float32(beta^t + 1) \n",
    "one_below = Float32(beta^t)\n",
    "two_below = Float32(beta^t - 1)\n",
    "smallest_unsupported_value == one_below, one_below==two_below"
   ]
  },
  {
   "cell_type": "markdown",
   "metadata": {},
   "source": [
    "For fp64, $t=53$ and thus this value is $2^{53} +1$. The result can be verified by the code below."
   ]
  },
  {
   "cell_type": "code",
   "execution_count": 3,
   "metadata": {},
   "outputs": [
    {
     "data": {
      "text/plain": [
       "(true, false)"
      ]
     },
     "metadata": {},
     "output_type": "display_data"
    }
   ],
   "source": [
    "beta = big(2.0)\n",
    "t = big(53)\n",
    "\n",
    "smallest_unsupported_value = Float64(beta^t + 1)\n",
    "one_below = Float64(beta^t)\n",
    "two_below = Float64(beta^t - 1)\n",
    "smallest_unsupported_value == one_below, one_below==two_below"
   ]
  },
  {
   "cell_type": "markdown",
   "metadata": {},
   "source": [
    "## part (b)\n"
   ]
  },
  {
   "cell_type": "markdown",
   "metadata": {},
   "source": [
    "In base 2, we can prove that for two floating point numbers $a \\leq b$, the following inequality holds:\n",
    "$$a \\leq fl(\\frac{a+b}{2}) \\leq b$$"
   ]
  },
  {
   "cell_type": "markdown",
   "metadata": {},
   "source": [
    "This proof relies on the fact that $a \\le b \\implies fl(a) \\leq fl(b)$. We can first construct the following: \n",
    "$$ a \\le b$$\n",
    "$$ a + b \\le b + b = 2\\cdot b$$\n",
    "$$ fl(a+b) \\le fl(2 \\cdot b)$$\n",
    "$$ \\frac{fl(a+b)}{2} \\le \\frac{fl(2 \\cdot b)}{2}$$\n",
    "$$ fl(\\frac{fl(a+b)}{2}) \\le fl(\\frac{fl(2 \\cdot b)}{2})$$\n",
    "\n",
    "Because we are doing operations in base-2, the effect of mutiplying by 2 is increasing the exponent by 1, and the effect of dividing is decreasing the exponent by 1. As a result, $fl(\\frac{fl(2 \\cdot b)}{2}) = b$. The same logic can be used to prove that $a \\le fl(\\frac{a+b}{2})$. As a result, in base-2, the following is always true if $a\\le b$:\n",
    "$$a \\leq fl(\\frac{a+b}{2}) \\leq b$$"
   ]
  },
  {
   "cell_type": "code",
   "execution_count": 147,
   "metadata": {},
   "outputs": [
    {
     "data": {
      "text/plain": [
       "false"
      ]
     },
     "metadata": {},
     "output_type": "display_data"
    }
   ],
   "source": [
    "a = 6.1111\n",
    "b = 6.1112\n",
    "\n",
    "round(round(a+b, sigdigits=5)/2, sigdigits =5) >= round(a, sigdigits=5)"
   ]
  },
  {
   "cell_type": "markdown",
   "metadata": {},
   "source": [
    "# Problem 3: Matrix norm"
   ]
  },
  {
   "cell_type": "markdown",
   "metadata": {},
   "source": [
    "## part (a)"
   ]
  },
  {
   "cell_type": "markdown",
   "metadata": {},
   "source": [
    "We aim to prove that $\\|A\\|_\\infty = \\underset{1\\leq i\\leq m}{\\max} \\|a_i^\\ast\\|_1$. In order to do so, we can use the property of subordinate norms described in lecture that given $x \\in \\mathbb{C}^n$, we have $\\|A\\|_\\beta = \\max\\limits_{\\| x \\|_\\beta = 1}\\|Ax\\|_\\beta$. In this problem, $\\beta = \\infty$, and thus we find $$\\|A\\|_\\infty = \\max\\limits_{\\| x \\|_\\infty = 1}\\|Ax\\|_\\infty = \\max\\limits_{\\| x \\|_\\infty = 1} (\\max\\limits_{1\\le i \\le m}|a_i^\\ast x|)$$ "
   ]
  },
  {
   "cell_type": "markdown",
   "metadata": {},
   "source": [
    "We also know that $\\| x \\|_\\infty = \\max\\limits_{1\\le j\\le n} |x_j|$, and thus $|x_j| \\le 1$.  As a result, we can rewrite our norm as $$\\|Ax\\|_\\infty =  \\max\\limits_{1\\le i \\le m}|a_i^\\ast x| \\le \\max\\limits_{1\\le j\\le n} \\sum_{j = 1}^n|a_{i, j}| |x_j|  \\le \\max\\limits_{1\\le j\\le n} \\sum_{j = 1}^n|a_{i, j}| =  \\max\\limits_{1\\le j\\le n} \\| a_{i}^\\ast \\|_1 $$"
   ]
  },
  {
   "cell_type": "markdown",
   "metadata": {},
   "source": [
    "By choosing $x = sign(a_i^\\ast)$, we attain this bound, and thus $\\|A\\|_\\infty = \\underset{1\\leq i\\leq m}{\\max} \\|a_i^\\ast\\|_1$."
   ]
  },
  {
   "cell_type": "code",
   "execution_count": 14,
   "metadata": {},
   "outputs": [
    {
     "data": {
      "text/plain": [
       "true"
      ]
     },
     "metadata": {},
     "output_type": "display_data"
    }
   ],
   "source": [
    "using LinearAlgebra\n",
    "\n",
    "# Generate a random A \n",
    "m = rand(1:100)\n",
    "n = rand(1:100)\n",
    "A = rand(m, n)\n",
    "\n",
    "# Calculate the row_sums\n",
    "row_sums = sum(abs.(A), dims=2)\n",
    "\n",
    "maximum(row_sums) == opnorm(A, Inf)"
   ]
  },
  {
   "cell_type": "markdown",
   "metadata": {},
   "source": [
    "## part (b)"
   ]
  },
  {
   "cell_type": "markdown",
   "metadata": {},
   "source": [
    "The proof that $I + B$ is nonsingular relies on the lemma from lecture that the spectral radius is bounded by the norm. Thus, for $1\\le k\\le n$, $| \\lambda_k | \\le \\|B\\| <1$, and thus $|\\lambda_k + 1| \\ne 0$. As a result, the corresponding matrix is nonsingular. "
   ]
  },
  {
   "cell_type": "markdown",
   "metadata": {},
   "source": [
    "In order to identify that $\\| (I + B)^{-1}\\| \\le \\frac{1}{1-\\|B\\|}$, we must first remark that $B$ is small. Thus, we can expand the inversion with the Neumann series. $$(I + B)^{-1} = \\sum_{k = 0}^\\infty (-B)^k$$ If we take the norm of each side, then we get \n",
    "$$\\|(I + B)^{-1} \\|= \\|\\sum_{k = 0}^\\infty (-B)^k\\| \\le \\sum_{k = 0}^\\infty \\|(-B)^k\\| \\le \\sum_{k = 0}^\\infty \\|B\\|^k = \\frac{1}{1- \\| B\\|}$$"
   ]
  },
  {
   "cell_type": "markdown",
   "metadata": {},
   "source": [
    "# Problem 4: SVD"
   ]
  },
  {
   "cell_type": "markdown",
   "metadata": {},
   "source": [
    "## part (a)"
   ]
  },
  {
   "cell_type": "markdown",
   "metadata": {},
   "source": [
    "In this problem, we must find the 2-norm and 2-condition number of the nonsingular matrix \n",
    "$$\n",
    "C = \\begin{bmatrix}\n",
    "\\alpha I & A^\\ast \\\\\n",
    "A & \\alpha I\n",
    "\\end{bmatrix}\n",
    "$$\n",
    "given that $A \\in \\mathbb{C}^{nxn}$ with singular values $\\sigma_1 \\ge ...\\ge \\sigma_n > 0$. From lecture, we know that $\\|C\\|_2$ is equivalent to the largest singular value of $C$, and $\\kappa_2(C)$ is the fraction of the largest singular value over the smallest."
   ]
  },
  {
   "cell_type": "markdown",
   "metadata": {},
   "source": [
    "As a result, all that is left is to find the singular values of $C$. They can be found from the square root of the eigenvalues of $C^\\ast C$. \n",
    "$$\n",
    "M = C^\\ast C = \\begin{bmatrix}\n",
    "\\alpha^2 I + A^\\ast A & 2\\alpha A^\\ast \\\\\n",
    "2\\alpha A & \\alpha^2 I + AA^\\ast\n",
    "\\end{bmatrix}\n",
    "$$\n",
    "\n",
    "As the eigenvalues of $A^\\ast A$ are equivalent to $\\Sigma^2$, then we can compute the eigenvalues of $M$ with the following formula: \n",
    "\n",
    "$$\n",
    "\\lambda_i^{+/-} = \\frac{2\\alpha^2 + 2 \\sigma_i^2 \\pm \\sqrt{(2\\alpha^2 + 2\\sigma_i^2)^2 -4(\\alpha^4 + \\sigma_i^4 -2\\alpha^2 \\sigma_i^2)}}{2} = \\alpha^2 + \\sigma_i^2 \\pm 2\\alpha \\sigma_i = (\\alpha \\pm \\sigma_i)^2\n",
    "$$\n",
    "\n",
    "The singular values of $C$ are the square root of the eigenvalues of $M$, and thus we have \n",
    "\n",
    "$$ \\mu_i^{+/-} = |\\alpha \\pm \\sigma_i|$$\n"
   ]
  },
  {
   "cell_type": "code",
   "execution_count": 82,
   "metadata": {},
   "outputs": [
    {
     "data": {
      "text/plain": [
       "(39.7237754680893, 28.446865343671117)"
      ]
     },
     "metadata": {},
     "output_type": "display_data"
    }
   ],
   "source": [
    "using LinearAlgebra\n",
    "\n",
    "n = 5\n",
    "A = rand(n, n)*10\n",
    "\n",
    "alpha = rand()*10\n",
    "while any(abs.(svd(A).S .- alpha) .< 1e-10)  \n",
    "    alpha = rand()*10  \n",
    "end\n",
    "\n",
    "\n",
    "I_ = I(n)\n",
    "\n",
    "largest = maximum(vcat(alpha .+ svd(A).S, abs.(alpha .- svd(A).S)))\n",
    "smallest = minimum(vcat(alpha .+ svd(A).S, abs.(alpha .- svd(A).S)))\n",
    "largest, largest/smallest"
   ]
  },
  {
   "cell_type": "code",
   "execution_count": 83,
   "metadata": {},
   "outputs": [
    {
     "data": {
      "text/plain": [
       "(39.72377546808932, 28.446865343671174)"
      ]
     },
     "metadata": {},
     "output_type": "display_data"
    }
   ],
   "source": [
    "I_ = I(n)\n",
    "C = [alpha*I_ A'; A alpha*I_] \n",
    "\n",
    "opnorm(C), cond(C)"
   ]
  },
  {
   "cell_type": "markdown",
   "metadata": {},
   "source": [
    "## part (b)"
   ]
  },
  {
   "cell_type": "markdown",
   "metadata": {},
   "source": [
    "In order to identify that $1\\le \\text{srank}(A) \\le \\text{rank}(A)$, we must first expand both the frobenius norm and the 2-norm. \n",
    "$$\\|A\\|_F^2 = tr(A^\\ast A) = \\sum_{i=1}^r \\sigma_i^2$$\n",
    "\n",
    "In addition, \n",
    "$$ \\|A\\|_2^2 = \\sigma _1^2 $$\n",
    "\n",
    "\n",
    "\n",
    "Because $\\forall i \\in (1,r], \\sigma_i \\le \\sigma_1$, and there are $r$ singular values because rank($A^\\ast A$) = rank($A$), we know that $\\sum_{i=1}^r \\sigma_i^2 \\le r\\cdot \\sigma_1^2$. As a result,\n",
    "\n",
    "$$\\text{srank}(A) = \\frac{\\sum_{i=1}^r \\sigma_i^2}{\\sigma_1^2} \\le r = \\text{rank}(A)$$\n",
    "\n",
    "In addition, we know trivially that $\\sum_{i=1}^r \\sigma_i^2 \\ge \\sigma_1^2$, and thus\n",
    "\n",
    "$$\\text{srank}(A) = \\frac{\\sum_{i=1}^r \\sigma_i^2}{\\sigma_1^2} \\ge 1$$\n",
    "\n",
    "\n"
   ]
  },
  {
   "cell_type": "code",
   "execution_count": 40,
   "metadata": {},
   "outputs": [
    {
     "data": {
      "text/plain": [
       "srank (generic function with 1 method)"
      ]
     },
     "metadata": {},
     "output_type": "display_data"
    }
   ],
   "source": [
    "using LinearAlgebra\n",
    "\n",
    "function srank(A)\n",
    "    A_F =  norm(A)\n",
    "    A_2 = opnorm(A, 2)\n",
    "    return A_F^2 / A_2^2\n",
    "end"
   ]
  },
  {
   "cell_type": "code",
   "execution_count": 44,
   "metadata": {},
   "outputs": [
    {
     "data": {
      "text/plain": [
       "true"
      ]
     },
     "metadata": {},
     "output_type": "display_data"
    }
   ],
   "source": [
    "m = rand(1:100)\n",
    "n = rand(1:100)\n",
    "A = rand(m, n)\n",
    "\n",
    "1 <= srank(A) <= rank(A)"
   ]
  }
 ],
 "metadata": {
  "@webio": {
   "lastCommId": null,
   "lastKernelId": null
  },
  "kernelspec": {
   "display_name": "Julia 1.11.3",
   "language": "julia",
   "name": "julia-1.11"
  },
  "language_info": {
   "file_extension": ".jl",
   "mimetype": "application/julia",
   "name": "julia",
   "version": "1.11.3"
  }
 },
 "nbformat": 4,
 "nbformat_minor": 1
}
